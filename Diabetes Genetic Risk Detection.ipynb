{
 "cells": [
  {
   "cell_type": "code",
   "execution_count": 27,
   "metadata": {},
   "outputs": [],
   "source": [
    "import pandas as pd\n",
    "import numpy as np\n",
    "import seaborn as sns\n",
    "from sklearn.model_selection import KFold\n",
    "import lightgbm as lgb"
   ]
  },
  {
   "cell_type": "code",
   "execution_count": 28,
   "metadata": {},
   "outputs": [],
   "source": [
    "train_df=pd.read_csv(r'C:\\Users\\weiping\\Desktop\\nlp\\train.csv',encoding='gbk')\n",
    "test_df=pd.read_csv(r'C:\\Users\\weiping\\Desktop\\nlp\\test.csv',encoding='gbk')"
   ]
  },
  {
   "cell_type": "code",
   "execution_count": 29,
   "metadata": {},
   "outputs": [
    {
     "name": "stdout",
     "output_type": "stream",
     "text": [
      "<class 'pandas.core.frame.DataFrame'>\n",
      "RangeIndex: 5070 entries, 0 to 5069\n",
      "Data columns (total 10 columns):\n",
      " #   Column    Non-Null Count  Dtype  \n",
      "---  ------    --------------  -----  \n",
      " 0   编号        5070 non-null   int64  \n",
      " 1   性别        5070 non-null   int64  \n",
      " 2   出生年份      5070 non-null   int64  \n",
      " 3   体重指数      5070 non-null   float64\n",
      " 4   糖尿病家族史    5070 non-null   object \n",
      " 5   舒张压       4823 non-null   float64\n",
      " 6   口服耐糖量测试   5070 non-null   float64\n",
      " 7   胰岛素释放实验   5070 non-null   float64\n",
      " 8   肱三头肌皮褶厚度  5070 non-null   float64\n",
      " 9   患有糖尿病标识   5070 non-null   int64  \n",
      "dtypes: float64(5), int64(4), object(1)\n",
      "memory usage: 396.2+ KB\n"
     ]
    }
   ],
   "source": [
    "train_df.info()"
   ]
  },
  {
   "cell_type": "code",
   "execution_count": 30,
   "metadata": {},
   "outputs": [
    {
     "name": "stdout",
     "output_type": "stream",
     "text": [
      "<class 'pandas.core.frame.DataFrame'>\n",
      "RangeIndex: 1000 entries, 0 to 999\n",
      "Data columns (total 9 columns):\n",
      " #   Column    Non-Null Count  Dtype  \n",
      "---  ------    --------------  -----  \n",
      " 0   编号        1000 non-null   int64  \n",
      " 1   性别        1000 non-null   int64  \n",
      " 2   出生年份      1000 non-null   int64  \n",
      " 3   体重指数      1000 non-null   float64\n",
      " 4   糖尿病家族史    1000 non-null   object \n",
      " 5   舒张压       951 non-null    float64\n",
      " 6   口服耐糖量测试   1000 non-null   float64\n",
      " 7   胰岛素释放实验   1000 non-null   float64\n",
      " 8   肱三头肌皮褶厚度  1000 non-null   float64\n",
      "dtypes: float64(5), int64(3), object(1)\n",
      "memory usage: 70.4+ KB\n"
     ]
    }
   ],
   "source": [
    "test_df.info()"
   ]
  },
  {
   "cell_type": "code",
   "execution_count": 31,
   "metadata": {},
   "outputs": [
    {
     "name": "stdout",
     "output_type": "stream",
     "text": [
      "(5070, 10) (1000, 9)\n",
      "编号            int64\n",
      "性别            int64\n",
      "出生年份          int64\n",
      "体重指数        float64\n",
      "糖尿病家族史       object\n",
      "舒张压         float64\n",
      "口服耐糖量测试     float64\n",
      "胰岛素释放实验     float64\n",
      "肱三头肌皮褶厚度    float64\n",
      "患有糖尿病标识       int64\n",
      "dtype: object 编号            int64\n",
      "性别            int64\n",
      "出生年份          int64\n",
      "体重指数        float64\n",
      "糖尿病家族史       object\n",
      "舒张压         float64\n",
      "口服耐糖量测试     float64\n",
      "胰岛素释放实验     float64\n",
      "肱三头肌皮褶厚度    float64\n",
      "dtype: object\n"
     ]
    }
   ],
   "source": [
    "print(train_df.shape, test_df.shape)\n",
    "print(train_df.dtypes, test_df.dtypes)"
   ]
  },
  {
   "cell_type": "code",
   "execution_count": 32,
   "metadata": {},
   "outputs": [
    {
     "data": {
      "text/plain": [
       "编号          0.000000\n",
       "性别          0.000000\n",
       "出生年份        0.000000\n",
       "体重指数        0.000000\n",
       "糖尿病家族史      0.000000\n",
       "舒张压         0.048718\n",
       "口服耐糖量测试     0.000000\n",
       "胰岛素释放实验     0.000000\n",
       "肱三头肌皮褶厚度    0.000000\n",
       "患有糖尿病标识     0.000000\n",
       "dtype: float64"
      ]
     },
     "execution_count": 32,
     "metadata": {},
     "output_type": "execute_result"
    }
   ],
   "source": [
    "train_df.isnull().mean(axis=0)"
   ]
  },
  {
   "cell_type": "code",
   "execution_count": 33,
   "metadata": {},
   "outputs": [
    {
     "data": {
      "text/plain": [
       "编号          0.000\n",
       "性别          0.000\n",
       "出生年份        0.000\n",
       "体重指数        0.000\n",
       "糖尿病家族史      0.000\n",
       "舒张压         0.049\n",
       "口服耐糖量测试     0.000\n",
       "胰岛素释放实验     0.000\n",
       "肱三头肌皮褶厚度    0.000\n",
       "dtype: float64"
      ]
     },
     "execution_count": 33,
     "metadata": {},
     "output_type": "execute_result"
    }
   ],
   "source": [
    "test_df.isnull().mean(axis=0)"
   ]
  },
  {
   "cell_type": "code",
   "execution_count": 34,
   "metadata": {},
   "outputs": [
    {
     "data": {
      "text/html": [
       "<div>\n",
       "<style scoped>\n",
       "    .dataframe tbody tr th:only-of-type {\n",
       "        vertical-align: middle;\n",
       "    }\n",
       "\n",
       "    .dataframe tbody tr th {\n",
       "        vertical-align: top;\n",
       "    }\n",
       "\n",
       "    .dataframe thead th {\n",
       "        text-align: right;\n",
       "    }\n",
       "</style>\n",
       "<table border=\"1\" class=\"dataframe\">\n",
       "  <thead>\n",
       "    <tr style=\"text-align: right;\">\n",
       "      <th></th>\n",
       "      <th>编号</th>\n",
       "      <th>性别</th>\n",
       "      <th>出生年份</th>\n",
       "      <th>体重指数</th>\n",
       "      <th>舒张压</th>\n",
       "      <th>口服耐糖量测试</th>\n",
       "      <th>胰岛素释放实验</th>\n",
       "      <th>肱三头肌皮褶厚度</th>\n",
       "      <th>患有糖尿病标识</th>\n",
       "    </tr>\n",
       "  </thead>\n",
       "  <tbody>\n",
       "    <tr>\n",
       "      <th>编号</th>\n",
       "      <td>1.000000</td>\n",
       "      <td>0.006603</td>\n",
       "      <td>-0.006693</td>\n",
       "      <td>0.000028</td>\n",
       "      <td>0.003495</td>\n",
       "      <td>-0.005840</td>\n",
       "      <td>0.020441</td>\n",
       "      <td>0.030330</td>\n",
       "      <td>0.027435</td>\n",
       "    </tr>\n",
       "    <tr>\n",
       "      <th>性别</th>\n",
       "      <td>0.006603</td>\n",
       "      <td>1.000000</td>\n",
       "      <td>-0.119563</td>\n",
       "      <td>0.075186</td>\n",
       "      <td>0.078870</td>\n",
       "      <td>0.011463</td>\n",
       "      <td>-0.053597</td>\n",
       "      <td>0.014037</td>\n",
       "      <td>0.031480</td>\n",
       "    </tr>\n",
       "    <tr>\n",
       "      <th>出生年份</th>\n",
       "      <td>-0.006693</td>\n",
       "      <td>-0.119563</td>\n",
       "      <td>1.000000</td>\n",
       "      <td>-0.074603</td>\n",
       "      <td>-0.154631</td>\n",
       "      <td>0.002085</td>\n",
       "      <td>0.058585</td>\n",
       "      <td>-0.013111</td>\n",
       "      <td>-0.068225</td>\n",
       "    </tr>\n",
       "    <tr>\n",
       "      <th>体重指数</th>\n",
       "      <td>0.000028</td>\n",
       "      <td>0.075186</td>\n",
       "      <td>-0.074603</td>\n",
       "      <td>1.000000</td>\n",
       "      <td>0.159903</td>\n",
       "      <td>-0.001796</td>\n",
       "      <td>-0.034507</td>\n",
       "      <td>0.026321</td>\n",
       "      <td>0.377919</td>\n",
       "    </tr>\n",
       "    <tr>\n",
       "      <th>舒张压</th>\n",
       "      <td>0.003495</td>\n",
       "      <td>0.078870</td>\n",
       "      <td>-0.154631</td>\n",
       "      <td>0.159903</td>\n",
       "      <td>1.000000</td>\n",
       "      <td>-0.020317</td>\n",
       "      <td>-0.206663</td>\n",
       "      <td>0.076147</td>\n",
       "      <td>0.157421</td>\n",
       "    </tr>\n",
       "    <tr>\n",
       "      <th>口服耐糖量测试</th>\n",
       "      <td>-0.005840</td>\n",
       "      <td>0.011463</td>\n",
       "      <td>0.002085</td>\n",
       "      <td>-0.001796</td>\n",
       "      <td>-0.020317</td>\n",
       "      <td>1.000000</td>\n",
       "      <td>0.093715</td>\n",
       "      <td>-0.006483</td>\n",
       "      <td>0.178133</td>\n",
       "    </tr>\n",
       "    <tr>\n",
       "      <th>胰岛素释放实验</th>\n",
       "      <td>0.020441</td>\n",
       "      <td>-0.053597</td>\n",
       "      <td>0.058585</td>\n",
       "      <td>-0.034507</td>\n",
       "      <td>-0.206663</td>\n",
       "      <td>0.093715</td>\n",
       "      <td>1.000000</td>\n",
       "      <td>-0.015479</td>\n",
       "      <td>0.156656</td>\n",
       "    </tr>\n",
       "    <tr>\n",
       "      <th>肱三头肌皮褶厚度</th>\n",
       "      <td>0.030330</td>\n",
       "      <td>0.014037</td>\n",
       "      <td>-0.013111</td>\n",
       "      <td>0.026321</td>\n",
       "      <td>0.076147</td>\n",
       "      <td>-0.006483</td>\n",
       "      <td>-0.015479</td>\n",
       "      <td>1.000000</td>\n",
       "      <td>0.410667</td>\n",
       "    </tr>\n",
       "    <tr>\n",
       "      <th>患有糖尿病标识</th>\n",
       "      <td>0.027435</td>\n",
       "      <td>0.031480</td>\n",
       "      <td>-0.068225</td>\n",
       "      <td>0.377919</td>\n",
       "      <td>0.157421</td>\n",
       "      <td>0.178133</td>\n",
       "      <td>0.156656</td>\n",
       "      <td>0.410667</td>\n",
       "      <td>1.000000</td>\n",
       "    </tr>\n",
       "  </tbody>\n",
       "</table>\n",
       "</div>"
      ],
      "text/plain": [
       "                编号        性别      出生年份      体重指数       舒张压   口服耐糖量测试  \\\n",
       "编号        1.000000  0.006603 -0.006693  0.000028  0.003495 -0.005840   \n",
       "性别        0.006603  1.000000 -0.119563  0.075186  0.078870  0.011463   \n",
       "出生年份     -0.006693 -0.119563  1.000000 -0.074603 -0.154631  0.002085   \n",
       "体重指数      0.000028  0.075186 -0.074603  1.000000  0.159903 -0.001796   \n",
       "舒张压       0.003495  0.078870 -0.154631  0.159903  1.000000 -0.020317   \n",
       "口服耐糖量测试  -0.005840  0.011463  0.002085 -0.001796 -0.020317  1.000000   \n",
       "胰岛素释放实验   0.020441 -0.053597  0.058585 -0.034507 -0.206663  0.093715   \n",
       "肱三头肌皮褶厚度  0.030330  0.014037 -0.013111  0.026321  0.076147 -0.006483   \n",
       "患有糖尿病标识   0.027435  0.031480 -0.068225  0.377919  0.157421  0.178133   \n",
       "\n",
       "           胰岛素释放实验  肱三头肌皮褶厚度   患有糖尿病标识  \n",
       "编号        0.020441  0.030330  0.027435  \n",
       "性别       -0.053597  0.014037  0.031480  \n",
       "出生年份      0.058585 -0.013111 -0.068225  \n",
       "体重指数     -0.034507  0.026321  0.377919  \n",
       "舒张压      -0.206663  0.076147  0.157421  \n",
       "口服耐糖量测试   0.093715 -0.006483  0.178133  \n",
       "胰岛素释放实验   1.000000 -0.015479  0.156656  \n",
       "肱三头肌皮褶厚度 -0.015479  1.000000  0.410667  \n",
       "患有糖尿病标识   0.156656  0.410667  1.000000  "
      ]
     },
     "execution_count": 34,
     "metadata": {},
     "output_type": "execute_result"
    }
   ],
   "source": [
    "train_df.corr()"
   ]
  },
  {
   "cell_type": "code",
   "execution_count": 35,
   "metadata": {},
   "outputs": [
    {
     "data": {
      "text/plain": [
       "无记录               2897\n",
       "叔叔或姑姑有一方患有糖尿病     1084\n",
       "父母有一方患有糖尿病         875\n",
       "叔叔或者姑姑有一方患有糖尿病     214\n",
       "Name: 糖尿病家族史, dtype: int64"
      ]
     },
     "execution_count": 35,
     "metadata": {},
     "output_type": "execute_result"
    }
   ],
   "source": [
    "train_df['糖尿病家族史'].value_counts()"
   ]
  },
  {
   "cell_type": "code",
   "execution_count": 36,
   "metadata": {},
   "outputs": [],
   "source": [
    "dict_糖尿病家族史 = {'无记录': 0,'叔叔或姑姑有一方患有糖尿病': 1,'叔叔或者姑姑有一方患有糖尿病': 1,'父母有一方患有糖尿病': 2}"
   ]
  },
  {
   "cell_type": "code",
   "execution_count": 37,
   "metadata": {},
   "outputs": [],
   "source": [
    "train_df['糖尿病家族史'] = train_df['糖尿病家族史'].map(dict_糖尿病家族史)\n",
    "test_df['糖尿病家族史'] = test_df['糖尿病家族史'].map(dict_糖尿病家族史)\n",
    "train_df['糖尿病家族史'] = train_df['糖尿病家族史'].astype('category')\n",
    "test_df['糖尿病家族史'] = train_df['糖尿病家族史'].astype('category')"
   ]
  },
  {
   "cell_type": "code",
   "execution_count": 38,
   "metadata": {},
   "outputs": [],
   "source": [
    "train_df['体重指数_round'] = train_df['体重指数'] // 10\n",
    "test_df['体重指数_round'] = train_df['体重指数'] // 10"
   ]
  },
  {
   "cell_type": "code",
   "execution_count": 39,
   "metadata": {},
   "outputs": [],
   "source": [
    "train_df['口服耐糖量测试'] = train_df['口服耐糖量测试'].replace(-1, np.nan)\n",
    "test_df['口服耐糖量测试'] = test_df['口服耐糖量测试'].replace(-1, np.nan)"
   ]
  },
  {
   "cell_type": "code",
   "execution_count": 40,
   "metadata": {},
   "outputs": [
    {
     "data": {
      "text/plain": [
       "糖尿病家族史\n",
       "0    5.896475\n",
       "1    5.967212\n",
       "2    6.125952\n",
       "Name: 口服耐糖量测试, dtype: float64"
      ]
     },
     "execution_count": 40,
     "metadata": {},
     "output_type": "execute_result"
    }
   ],
   "source": [
    "train_df.groupby('糖尿病家族史')['口服耐糖量测试'].mean()"
   ]
  },
  {
   "cell_type": "code",
   "execution_count": 41,
   "metadata": {},
   "outputs": [],
   "source": [
    "train_df['口服耐糖量测试_diff'] = train_df['口服耐糖量测试'] - train_df.groupby('糖尿病家族史').transform(lambda x: x-x.mean())['口服耐糖量测试']\n",
    "test_df['口服耐糖量测试_diff'] = test_df['口服耐糖量测试'] - test_df.groupby('糖尿病家族史').transform(lambda x: x-x.mean())['口服耐糖量测试']"
   ]
  },
  {
   "cell_type": "code",
   "execution_count": 42,
   "metadata": {},
   "outputs": [
    {
     "data": {
      "text/plain": [
       "89.42359527265188"
      ]
     },
     "execution_count": 42,
     "metadata": {},
     "output_type": "execute_result"
    }
   ],
   "source": [
    "train_df['舒张压'].mean()"
   ]
  },
  {
   "cell_type": "code",
   "execution_count": 43,
   "metadata": {},
   "outputs": [
    {
     "data": {
      "text/plain": [
       "89.63827549947423"
      ]
     },
     "execution_count": 43,
     "metadata": {},
     "output_type": "execute_result"
    }
   ],
   "source": [
    "test_df['舒张压'].mean()"
   ]
  },
  {
   "cell_type": "code",
   "execution_count": 44,
   "metadata": {},
   "outputs": [],
   "source": [
    "train_df['舒张压'].fillna(89, inplace=True)\n",
    "test_df['舒张压'].fillna(89, inplace=True)"
   ]
  },
  {
   "cell_type": "code",
   "execution_count": 45,
   "metadata": {},
   "outputs": [],
   "source": [
    "train_df['性别'] = train_df['性别'].astype('category')\n",
    "test_df['性别'] = train_df['性别'].astype('category')"
   ]
  },
  {
   "cell_type": "code",
   "execution_count": 46,
   "metadata": {},
   "outputs": [],
   "source": [
    "train_df['年龄'] = 2022 - train_df['出生年份']\n",
    "test_df['年龄'] = 2022 - test_df['出生年份']"
   ]
  },
  {
   "cell_type": "code",
   "execution_count": 47,
   "metadata": {},
   "outputs": [
    {
     "name": "stdout",
     "output_type": "stream",
     "text": [
      "<class 'pandas.core.frame.DataFrame'>\n",
      "RangeIndex: 5070 entries, 0 to 5069\n",
      "Data columns (total 13 columns):\n",
      " #   Column        Non-Null Count  Dtype   \n",
      "---  ------        --------------  -----   \n",
      " 0   编号            5070 non-null   int64   \n",
      " 1   性别            5070 non-null   category\n",
      " 2   出生年份          5070 non-null   int64   \n",
      " 3   体重指数          5070 non-null   float64 \n",
      " 4   糖尿病家族史        5070 non-null   category\n",
      " 5   舒张压           5070 non-null   float64 \n",
      " 6   口服耐糖量测试       4821 non-null   float64 \n",
      " 7   胰岛素释放实验       5070 non-null   float64 \n",
      " 8   肱三头肌皮褶厚度      5070 non-null   float64 \n",
      " 9   患有糖尿病标识       5070 non-null   int64   \n",
      " 10  体重指数_round    5070 non-null   float64 \n",
      " 11  口服耐糖量测试_diff  4821 non-null   float64 \n",
      " 12  年龄            5070 non-null   int64   \n",
      "dtypes: category(2), float64(7), int64(4)\n",
      "memory usage: 446.0 KB\n"
     ]
    }
   ],
   "source": [
    "train_df.info()"
   ]
  },
  {
   "cell_type": "code",
   "execution_count": 48,
   "metadata": {},
   "outputs": [],
   "source": [
    "train_df=train_df.dropna(axis=0,how='any')\n",
    "test_df=test_df.dropna(axis=0,how='any')"
   ]
  },
  {
   "cell_type": "code",
   "execution_count": 49,
   "metadata": {},
   "outputs": [
    {
     "data": {
      "text/plain": [
       "编号              0.0\n",
       "性别              0.0\n",
       "出生年份            0.0\n",
       "体重指数            0.0\n",
       "糖尿病家族史          0.0\n",
       "舒张压             0.0\n",
       "口服耐糖量测试         0.0\n",
       "胰岛素释放实验         0.0\n",
       "肱三头肌皮褶厚度        0.0\n",
       "患有糖尿病标识         0.0\n",
       "体重指数_round      0.0\n",
       "口服耐糖量测试_diff    0.0\n",
       "年龄              0.0\n",
       "dtype: float64"
      ]
     },
     "execution_count": 49,
     "metadata": {},
     "output_type": "execute_result"
    }
   ],
   "source": [
    "train_df.isnull().mean(axis=0)"
   ]
  },
  {
   "cell_type": "code",
   "execution_count": 50,
   "metadata": {},
   "outputs": [
    {
     "data": {
      "text/plain": [
       "编号              0.0\n",
       "性别              0.0\n",
       "出生年份            0.0\n",
       "体重指数            0.0\n",
       "糖尿病家族史          0.0\n",
       "舒张压             0.0\n",
       "口服耐糖量测试         0.0\n",
       "胰岛素释放实验         0.0\n",
       "肱三头肌皮褶厚度        0.0\n",
       "体重指数_round      0.0\n",
       "口服耐糖量测试_diff    0.0\n",
       "年龄              0.0\n",
       "dtype: float64"
      ]
     },
     "execution_count": 50,
     "metadata": {},
     "output_type": "execute_result"
    }
   ],
   "source": [
    "test_df.isnull().mean(axis=0)"
   ]
  },
  {
   "cell_type": "markdown",
   "metadata": {},
   "source": [
    "## Linear regression"
   ]
  },
  {
   "cell_type": "markdown",
   "metadata": {},
   "source": [
    "model = make_pipeline(\n",
    "    MinMaxScaler(),\n",
    "    DecisionTreeClassifier()\n",
    ")\n",
    "model.fit(train_df.drop(['编号', '患有糖尿病标识'], axis=1), train_df['患有糖尿病标识'])"
   ]
  },
  {
   "cell_type": "markdown",
   "metadata": {},
   "source": [
    "test_df['label'] = model.predict(test_df.drop(['编号'], axis=1))\n",
    "test_df.rename({'编号': 'uuid'}, axis=1)[['uuid', 'label']].to_csv('submit_linear.csv', index=None)"
   ]
  },
  {
   "cell_type": "markdown",
   "metadata": {},
   "source": [
    "##  Random forest model "
   ]
  },
  {
   "cell_type": "markdown",
   "metadata": {},
   "source": [
    "rf=RandomForestRegressor(n_estimators=500,n_jobs=-1)\n",
    "rf.fit(train_df.drop(['编号', '患有糖尿病标识'], axis=1), train_df['患有糖尿病标识'])\n",
    "test_df['label']=rf.predict(test_df.drop(['编号'], axis=1))\n",
    "test_df.rename({'编号': 'uuid'}, axis=1)[['uuid', 'label']].to_csv('submit_rf.csv', index=None)"
   ]
  },
  {
   "cell_type": "markdown",
   "metadata": {},
   "source": [
    "## lgb model"
   ]
  },
  {
   "cell_type": "code",
   "execution_count": 51,
   "metadata": {},
   "outputs": [
    {
     "name": "stderr",
     "output_type": "stream",
     "text": [
      "E:\\anaconda\\lib\\site-packages\\lightgbm\\sklearn.py:736: UserWarning: 'verbose' argument is deprecated and will be removed in a future release of LightGBM. Pass 'log_evaluation()' callback via 'callbacks' argument instead.\n",
      "  _log_warning(\"'verbose' argument is deprecated and will be removed in a future release of LightGBM. \"\n",
      "E:\\anaconda\\lib\\site-packages\\lightgbm\\basic.py:1780: UserWarning: Overriding the parameters from Reference Dataset.\n",
      "  _log_warning('Overriding the parameters from Reference Dataset.')\n",
      "E:\\anaconda\\lib\\site-packages\\lightgbm\\basic.py:1513: UserWarning: categorical_column in param dict is overridden.\n",
      "  _log_warning(f'{cat_alias} in param dict is overridden.')\n"
     ]
    },
    {
     "name": "stdout",
     "output_type": "stream",
     "text": [
      "[LightGBM] [Warning] verbosity is set=-1, verbose=-1 will be ignored. Current value: verbosity=-1\n",
      "Training until validation scores don't improve for 50 rounds\n",
      "Early stopping, best iteration is:\n",
      "[242]\tvalid_0's binary_logloss: 0.133147\n",
      "[LightGBM] [Warning] verbosity is set=-1, verbose=-1 will be ignored. Current value: verbosity=-1\n",
      "Training until validation scores don't improve for 50 rounds\n"
     ]
    },
    {
     "name": "stderr",
     "output_type": "stream",
     "text": [
      "E:\\anaconda\\lib\\site-packages\\lightgbm\\sklearn.py:736: UserWarning: 'verbose' argument is deprecated and will be removed in a future release of LightGBM. Pass 'log_evaluation()' callback via 'callbacks' argument instead.\n",
      "  _log_warning(\"'verbose' argument is deprecated and will be removed in a future release of LightGBM. \"\n",
      "E:\\anaconda\\lib\\site-packages\\lightgbm\\basic.py:1780: UserWarning: Overriding the parameters from Reference Dataset.\n",
      "  _log_warning('Overriding the parameters from Reference Dataset.')\n",
      "E:\\anaconda\\lib\\site-packages\\lightgbm\\basic.py:1513: UserWarning: categorical_column in param dict is overridden.\n",
      "  _log_warning(f'{cat_alias} in param dict is overridden.')\n"
     ]
    },
    {
     "name": "stdout",
     "output_type": "stream",
     "text": [
      "Early stopping, best iteration is:\n",
      "[190]\tvalid_0's binary_logloss: 0.122968\n",
      "[LightGBM] [Warning] verbosity is set=-1, verbose=-1 will be ignored. Current value: verbosity=-1\n",
      "Training until validation scores don't improve for 50 rounds\n"
     ]
    },
    {
     "name": "stderr",
     "output_type": "stream",
     "text": [
      "E:\\anaconda\\lib\\site-packages\\lightgbm\\sklearn.py:736: UserWarning: 'verbose' argument is deprecated and will be removed in a future release of LightGBM. Pass 'log_evaluation()' callback via 'callbacks' argument instead.\n",
      "  _log_warning(\"'verbose' argument is deprecated and will be removed in a future release of LightGBM. \"\n",
      "E:\\anaconda\\lib\\site-packages\\lightgbm\\basic.py:1780: UserWarning: Overriding the parameters from Reference Dataset.\n",
      "  _log_warning('Overriding the parameters from Reference Dataset.')\n",
      "E:\\anaconda\\lib\\site-packages\\lightgbm\\basic.py:1513: UserWarning: categorical_column in param dict is overridden.\n",
      "  _log_warning(f'{cat_alias} in param dict is overridden.')\n"
     ]
    },
    {
     "name": "stdout",
     "output_type": "stream",
     "text": [
      "Early stopping, best iteration is:\n",
      "[226]\tvalid_0's binary_logloss: 0.115888\n",
      "[LightGBM] [Warning] verbosity is set=-1, verbose=-1 will be ignored. Current value: verbosity=-1\n",
      "Training until validation scores don't improve for 50 rounds\n"
     ]
    },
    {
     "name": "stderr",
     "output_type": "stream",
     "text": [
      "E:\\anaconda\\lib\\site-packages\\lightgbm\\sklearn.py:736: UserWarning: 'verbose' argument is deprecated and will be removed in a future release of LightGBM. Pass 'log_evaluation()' callback via 'callbacks' argument instead.\n",
      "  _log_warning(\"'verbose' argument is deprecated and will be removed in a future release of LightGBM. \"\n",
      "E:\\anaconda\\lib\\site-packages\\lightgbm\\basic.py:1780: UserWarning: Overriding the parameters from Reference Dataset.\n",
      "  _log_warning('Overriding the parameters from Reference Dataset.')\n",
      "E:\\anaconda\\lib\\site-packages\\lightgbm\\basic.py:1513: UserWarning: categorical_column in param dict is overridden.\n",
      "  _log_warning(f'{cat_alias} in param dict is overridden.')\n"
     ]
    },
    {
     "name": "stdout",
     "output_type": "stream",
     "text": [
      "Early stopping, best iteration is:\n",
      "[265]\tvalid_0's binary_logloss: 0.130943\n",
      "[LightGBM] [Warning] verbosity is set=-1, verbose=-1 will be ignored. Current value: verbosity=-1\n",
      "Training until validation scores don't improve for 50 rounds\n"
     ]
    },
    {
     "name": "stderr",
     "output_type": "stream",
     "text": [
      "E:\\anaconda\\lib\\site-packages\\lightgbm\\sklearn.py:736: UserWarning: 'verbose' argument is deprecated and will be removed in a future release of LightGBM. Pass 'log_evaluation()' callback via 'callbacks' argument instead.\n",
      "  _log_warning(\"'verbose' argument is deprecated and will be removed in a future release of LightGBM. \"\n",
      "E:\\anaconda\\lib\\site-packages\\lightgbm\\basic.py:1780: UserWarning: Overriding the parameters from Reference Dataset.\n",
      "  _log_warning('Overriding the parameters from Reference Dataset.')\n",
      "E:\\anaconda\\lib\\site-packages\\lightgbm\\basic.py:1513: UserWarning: categorical_column in param dict is overridden.\n",
      "  _log_warning(f'{cat_alias} in param dict is overridden.')\n"
     ]
    },
    {
     "name": "stdout",
     "output_type": "stream",
     "text": [
      "Early stopping, best iteration is:\n",
      "[179]\tvalid_0's binary_logloss: 0.108291\n",
      "0.9572702758763741\n"
     ]
    }
   ],
   "source": [
    "def run_model_cv(model, kf, X_tr, y, X_te, cate_col=None):\n",
    "    train_pred = np.zeros( (len(X_tr), len(np.unique(y))) )\n",
    "    test_pred = np.zeros( (len(X_te), len(np.unique(y))) )\n",
    "\n",
    "    cv_clf = []\n",
    "    for tr_idx, val_idx in kf.split(X_tr, y):\n",
    "        x_tr = X_tr.iloc[tr_idx]; y_tr = y.iloc[tr_idx]\n",
    "\n",
    "        x_val = X_tr.iloc[val_idx]; y_val = y.iloc[val_idx]\n",
    "\n",
    "        call_back = [\n",
    "            lgb.early_stopping(50),\n",
    "        ]\n",
    "        eval_set = [(x_val, y_val)]\n",
    "        model.fit(x_tr, y_tr, eval_set=eval_set, callbacks=call_back, verbose=-1)\n",
    "\n",
    "        cv_clf.append(model)\n",
    "\n",
    "        train_pred[val_idx] = model.predict_proba(x_val)\n",
    "        test_pred += model.predict_proba(X_te)\n",
    "\n",
    "    test_pred /= kf.n_splits\n",
    "    return train_pred, test_pred, cv_clf\n",
    "\n",
    "clf = lgb.LGBMClassifier(\n",
    "    max_depth=3, \n",
    "    n_estimators=4000, \n",
    "    n_jobs=-1, \n",
    "    verbose=-1,\n",
    "    verbosity=-1,\n",
    "    learning_rate=0.1,\n",
    ")\n",
    "\n",
    "train_pred, test_pred, cv_clf = run_model_cv(\n",
    "    clf, KFold(n_splits=5),\n",
    "    train_df.drop(['编号', '患有糖尿病标识'], axis=1),\n",
    "    train_df['患有糖尿病标识'],\n",
    "    test_df.drop(['编号'], axis=1),\n",
    ")\n",
    "\n",
    "print((train_pred.argmax(1) == train_df['患有糖尿病标识']).mean())\n",
    "test_df['label'] = test_pred.argmax(1)\n",
    "test_df.rename({'编号': 'uuid'}, axis=1)[['uuid', 'label']].to_csv('submit_lgb.csv', index=None)"
   ]
  },
  {
   "cell_type": "code",
   "execution_count": null,
   "metadata": {},
   "outputs": [],
   "source": []
  },
  {
   "cell_type": "code",
   "execution_count": null,
   "metadata": {},
   "outputs": [],
   "source": []
  },
  {
   "cell_type": "code",
   "execution_count": null,
   "metadata": {},
   "outputs": [],
   "source": []
  },
  {
   "cell_type": "code",
   "execution_count": null,
   "metadata": {},
   "outputs": [],
   "source": []
  },
  {
   "cell_type": "code",
   "execution_count": null,
   "metadata": {},
   "outputs": [],
   "source": []
  },
  {
   "cell_type": "code",
   "execution_count": null,
   "metadata": {},
   "outputs": [],
   "source": []
  },
  {
   "cell_type": "code",
   "execution_count": null,
   "metadata": {},
   "outputs": [],
   "source": []
  },
  {
   "cell_type": "code",
   "execution_count": null,
   "metadata": {},
   "outputs": [],
   "source": []
  }
 ],
 "metadata": {
  "kernelspec": {
   "display_name": "Python 3",
   "language": "python",
   "name": "python3"
  },
  "language_info": {
   "codemirror_mode": {
    "name": "ipython",
    "version": 3
   },
   "file_extension": ".py",
   "mimetype": "text/x-python",
   "name": "python",
   "nbconvert_exporter": "python",
   "pygments_lexer": "ipython3",
   "version": "3.7.4"
  }
 },
 "nbformat": 4,
 "nbformat_minor": 2
}
